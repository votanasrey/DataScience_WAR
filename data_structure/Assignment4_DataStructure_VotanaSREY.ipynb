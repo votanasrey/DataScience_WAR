{
  "cells": [
    {
      "cell_type": "markdown",
      "metadata": {
        "id": "NI3RFaDmjlui"
      },
      "source": [
        "# <center>Assignment 4\n"
      ]
    },
    {
      "cell_type": "code",
      "source": [
        "from google.colab import drive\n",
        "drive.mount('/content/drive')"
      ],
      "metadata": {
        "colab": {
          "base_uri": "https://localhost:8080/"
        },
        "id": "jk-ZxnL8bJU1",
        "outputId": "26944656-e744-42de-d2a7-869c374e7fb8"
      },
      "execution_count": 2,
      "outputs": [
        {
          "output_type": "stream",
          "name": "stdout",
          "text": [
            "Mounted at /content/drive\n"
          ]
        }
      ]
    },
    {
      "cell_type": "markdown",
      "metadata": {
        "id": "uWWX8pGojluk"
      },
      "source": [
        "Name: Votata SREY\n",
        "\n"
      ]
    },
    {
      "cell_type": "markdown",
      "metadata": {
        "id": "jTYtRFYejluk"
      },
      "source": [
        "# Part 1"
      ]
    },
    {
      "cell_type": "markdown",
      "metadata": {
        "id": "sJjtHI6Pjluk"
      },
      "source": [
        "**In part 1 you need to work with data from the about 120 years of Olympic history by pandas. Write code and perform computations in the cells below. There are five questions.**"
      ]
    },
    {
      "cell_type": "markdown",
      "metadata": {
        "id": "hF2T5BzVjluk"
      },
      "source": [
        "Download the file `athlete_events.csv` from [here](https://www.kaggle.com/datasets/heesoo37/120-years-of-olympic-history-athletes-and-results). The dataset has the following features:\n",
        "\n",
        "- __ID__ - Unique number for each athlete\n",
        "- __Name__ - Athlete's name\n",
        "- __Sex__ - M or F\n",
        "- __Age__ - Integer\n",
        "- __Height__ - In centimeters\n",
        "- __Weight__ - In kilograms\n",
        "- __Team__ - Team name\n",
        "- __NOC__ - National Olympic Committee 3-letter code\n",
        "- __Games__ - Year and season\n",
        "- __Year__ - Integer\n",
        "- __Season__ - Summer or Winter\n",
        "- __City__ - Host city\n",
        "- __Sport__ - Sport\n",
        "- __Event__ - Event\n",
        "- __Medal__ - Gold, Silver, Bronze, or NA"
      ]
    },
    {
      "cell_type": "code",
      "execution_count": 3,
      "metadata": {
        "id": "bHOuJShNjlul"
      },
      "outputs": [],
      "source": [
        "import pandas as pd\n",
        "import numpy as np"
      ]
    },
    {
      "cell_type": "code",
      "execution_count": 7,
      "metadata": {
        "id": "vIgaBJEsjlum",
        "outputId": "fa0043f4-eabe-4fc3-ddb4-9d98db1109e9",
        "colab": {
          "base_uri": "https://localhost:8080/",
          "height": 206
        }
      },
      "outputs": [
        {
          "output_type": "execute_result",
          "data": {
            "text/plain": [
              "   ID                      Name Sex   Age  Height  Weight            Team  \\\n",
              "0   1                 A Dijiang   M  24.0   180.0    80.0           China   \n",
              "1   2                  A Lamusi   M  23.0   170.0    60.0           China   \n",
              "2   3       Gunnar Nielsen Aaby   M  24.0     NaN     NaN         Denmark   \n",
              "3   4      Edgar Lindenau Aabye   M  34.0     NaN     NaN  Denmark/Sweden   \n",
              "4   5  Christine Jacoba Aaftink   F  21.0   185.0    82.0     Netherlands   \n",
              "\n",
              "   NOC        Games  Year  Season       City          Sport  \\\n",
              "0  CHN  1992 Summer  1992  Summer  Barcelona     Basketball   \n",
              "1  CHN  2012 Summer  2012  Summer     London           Judo   \n",
              "2  DEN  1920 Summer  1920  Summer  Antwerpen       Football   \n",
              "3  DEN  1900 Summer  1900  Summer      Paris     Tug-Of-War   \n",
              "4  NED  1988 Winter  1988  Winter    Calgary  Speed Skating   \n",
              "\n",
              "                              Event Medal  \n",
              "0       Basketball Men's Basketball   NaN  \n",
              "1      Judo Men's Extra-Lightweight   NaN  \n",
              "2           Football Men's Football   NaN  \n",
              "3       Tug-Of-War Men's Tug-Of-War  Gold  \n",
              "4  Speed Skating Women's 500 metres   NaN  "
            ],
            "text/html": [
              "\n",
              "  <div id=\"df-7d2cf957-f1eb-4772-af55-f59cb11849f4\" class=\"colab-df-container\">\n",
              "    <div>\n",
              "<style scoped>\n",
              "    .dataframe tbody tr th:only-of-type {\n",
              "        vertical-align: middle;\n",
              "    }\n",
              "\n",
              "    .dataframe tbody tr th {\n",
              "        vertical-align: top;\n",
              "    }\n",
              "\n",
              "    .dataframe thead th {\n",
              "        text-align: right;\n",
              "    }\n",
              "</style>\n",
              "<table border=\"1\" class=\"dataframe\">\n",
              "  <thead>\n",
              "    <tr style=\"text-align: right;\">\n",
              "      <th></th>\n",
              "      <th>ID</th>\n",
              "      <th>Name</th>\n",
              "      <th>Sex</th>\n",
              "      <th>Age</th>\n",
              "      <th>Height</th>\n",
              "      <th>Weight</th>\n",
              "      <th>Team</th>\n",
              "      <th>NOC</th>\n",
              "      <th>Games</th>\n",
              "      <th>Year</th>\n",
              "      <th>Season</th>\n",
              "      <th>City</th>\n",
              "      <th>Sport</th>\n",
              "      <th>Event</th>\n",
              "      <th>Medal</th>\n",
              "    </tr>\n",
              "  </thead>\n",
              "  <tbody>\n",
              "    <tr>\n",
              "      <th>0</th>\n",
              "      <td>1</td>\n",
              "      <td>A Dijiang</td>\n",
              "      <td>M</td>\n",
              "      <td>24.0</td>\n",
              "      <td>180.0</td>\n",
              "      <td>80.0</td>\n",
              "      <td>China</td>\n",
              "      <td>CHN</td>\n",
              "      <td>1992 Summer</td>\n",
              "      <td>1992</td>\n",
              "      <td>Summer</td>\n",
              "      <td>Barcelona</td>\n",
              "      <td>Basketball</td>\n",
              "      <td>Basketball Men's Basketball</td>\n",
              "      <td>NaN</td>\n",
              "    </tr>\n",
              "    <tr>\n",
              "      <th>1</th>\n",
              "      <td>2</td>\n",
              "      <td>A Lamusi</td>\n",
              "      <td>M</td>\n",
              "      <td>23.0</td>\n",
              "      <td>170.0</td>\n",
              "      <td>60.0</td>\n",
              "      <td>China</td>\n",
              "      <td>CHN</td>\n",
              "      <td>2012 Summer</td>\n",
              "      <td>2012</td>\n",
              "      <td>Summer</td>\n",
              "      <td>London</td>\n",
              "      <td>Judo</td>\n",
              "      <td>Judo Men's Extra-Lightweight</td>\n",
              "      <td>NaN</td>\n",
              "    </tr>\n",
              "    <tr>\n",
              "      <th>2</th>\n",
              "      <td>3</td>\n",
              "      <td>Gunnar Nielsen Aaby</td>\n",
              "      <td>M</td>\n",
              "      <td>24.0</td>\n",
              "      <td>NaN</td>\n",
              "      <td>NaN</td>\n",
              "      <td>Denmark</td>\n",
              "      <td>DEN</td>\n",
              "      <td>1920 Summer</td>\n",
              "      <td>1920</td>\n",
              "      <td>Summer</td>\n",
              "      <td>Antwerpen</td>\n",
              "      <td>Football</td>\n",
              "      <td>Football Men's Football</td>\n",
              "      <td>NaN</td>\n",
              "    </tr>\n",
              "    <tr>\n",
              "      <th>3</th>\n",
              "      <td>4</td>\n",
              "      <td>Edgar Lindenau Aabye</td>\n",
              "      <td>M</td>\n",
              "      <td>34.0</td>\n",
              "      <td>NaN</td>\n",
              "      <td>NaN</td>\n",
              "      <td>Denmark/Sweden</td>\n",
              "      <td>DEN</td>\n",
              "      <td>1900 Summer</td>\n",
              "      <td>1900</td>\n",
              "      <td>Summer</td>\n",
              "      <td>Paris</td>\n",
              "      <td>Tug-Of-War</td>\n",
              "      <td>Tug-Of-War Men's Tug-Of-War</td>\n",
              "      <td>Gold</td>\n",
              "    </tr>\n",
              "    <tr>\n",
              "      <th>4</th>\n",
              "      <td>5</td>\n",
              "      <td>Christine Jacoba Aaftink</td>\n",
              "      <td>F</td>\n",
              "      <td>21.0</td>\n",
              "      <td>185.0</td>\n",
              "      <td>82.0</td>\n",
              "      <td>Netherlands</td>\n",
              "      <td>NED</td>\n",
              "      <td>1988 Winter</td>\n",
              "      <td>1988</td>\n",
              "      <td>Winter</td>\n",
              "      <td>Calgary</td>\n",
              "      <td>Speed Skating</td>\n",
              "      <td>Speed Skating Women's 500 metres</td>\n",
              "      <td>NaN</td>\n",
              "    </tr>\n",
              "  </tbody>\n",
              "</table>\n",
              "</div>\n",
              "    <div class=\"colab-df-buttons\">\n",
              "\n",
              "  <div class=\"colab-df-container\">\n",
              "    <button class=\"colab-df-convert\" onclick=\"convertToInteractive('df-7d2cf957-f1eb-4772-af55-f59cb11849f4')\"\n",
              "            title=\"Convert this dataframe to an interactive table.\"\n",
              "            style=\"display:none;\">\n",
              "\n",
              "  <svg xmlns=\"http://www.w3.org/2000/svg\" height=\"24px\" viewBox=\"0 -960 960 960\">\n",
              "    <path d=\"M120-120v-720h720v720H120Zm60-500h600v-160H180v160Zm220 220h160v-160H400v160Zm0 220h160v-160H400v160ZM180-400h160v-160H180v160Zm440 0h160v-160H620v160ZM180-180h160v-160H180v160Zm440 0h160v-160H620v160Z\"/>\n",
              "  </svg>\n",
              "    </button>\n",
              "\n",
              "  <style>\n",
              "    .colab-df-container {\n",
              "      display:flex;\n",
              "      gap: 12px;\n",
              "    }\n",
              "\n",
              "    .colab-df-convert {\n",
              "      background-color: #E8F0FE;\n",
              "      border: none;\n",
              "      border-radius: 50%;\n",
              "      cursor: pointer;\n",
              "      display: none;\n",
              "      fill: #1967D2;\n",
              "      height: 32px;\n",
              "      padding: 0 0 0 0;\n",
              "      width: 32px;\n",
              "    }\n",
              "\n",
              "    .colab-df-convert:hover {\n",
              "      background-color: #E2EBFA;\n",
              "      box-shadow: 0px 1px 2px rgba(60, 64, 67, 0.3), 0px 1px 3px 1px rgba(60, 64, 67, 0.15);\n",
              "      fill: #174EA6;\n",
              "    }\n",
              "\n",
              "    .colab-df-buttons div {\n",
              "      margin-bottom: 4px;\n",
              "    }\n",
              "\n",
              "    [theme=dark] .colab-df-convert {\n",
              "      background-color: #3B4455;\n",
              "      fill: #D2E3FC;\n",
              "    }\n",
              "\n",
              "    [theme=dark] .colab-df-convert:hover {\n",
              "      background-color: #434B5C;\n",
              "      box-shadow: 0px 1px 3px 1px rgba(0, 0, 0, 0.15);\n",
              "      filter: drop-shadow(0px 1px 2px rgba(0, 0, 0, 0.3));\n",
              "      fill: #FFFFFF;\n",
              "    }\n",
              "  </style>\n",
              "\n",
              "    <script>\n",
              "      const buttonEl =\n",
              "        document.querySelector('#df-7d2cf957-f1eb-4772-af55-f59cb11849f4 button.colab-df-convert');\n",
              "      buttonEl.style.display =\n",
              "        google.colab.kernel.accessAllowed ? 'block' : 'none';\n",
              "\n",
              "      async function convertToInteractive(key) {\n",
              "        const element = document.querySelector('#df-7d2cf957-f1eb-4772-af55-f59cb11849f4');\n",
              "        const dataTable =\n",
              "          await google.colab.kernel.invokeFunction('convertToInteractive',\n",
              "                                                    [key], {});\n",
              "        if (!dataTable) return;\n",
              "\n",
              "        const docLinkHtml = 'Like what you see? Visit the ' +\n",
              "          '<a target=\"_blank\" href=https://colab.research.google.com/notebooks/data_table.ipynb>data table notebook</a>'\n",
              "          + ' to learn more about interactive tables.';\n",
              "        element.innerHTML = '';\n",
              "        dataTable['output_type'] = 'display_data';\n",
              "        await google.colab.output.renderOutput(dataTable, element);\n",
              "        const docLink = document.createElement('div');\n",
              "        docLink.innerHTML = docLinkHtml;\n",
              "        element.appendChild(docLink);\n",
              "      }\n",
              "    </script>\n",
              "  </div>\n",
              "\n",
              "\n",
              "<div id=\"df-d77dd070-a405-478e-8711-130c88179bea\">\n",
              "  <button class=\"colab-df-quickchart\" onclick=\"quickchart('df-d77dd070-a405-478e-8711-130c88179bea')\"\n",
              "            title=\"Suggest charts\"\n",
              "            style=\"display:none;\">\n",
              "\n",
              "<svg xmlns=\"http://www.w3.org/2000/svg\" height=\"24px\"viewBox=\"0 0 24 24\"\n",
              "     width=\"24px\">\n",
              "    <g>\n",
              "        <path d=\"M19 3H5c-1.1 0-2 .9-2 2v14c0 1.1.9 2 2 2h14c1.1 0 2-.9 2-2V5c0-1.1-.9-2-2-2zM9 17H7v-7h2v7zm4 0h-2V7h2v10zm4 0h-2v-4h2v4z\"/>\n",
              "    </g>\n",
              "</svg>\n",
              "  </button>\n",
              "\n",
              "<style>\n",
              "  .colab-df-quickchart {\n",
              "      --bg-color: #E8F0FE;\n",
              "      --fill-color: #1967D2;\n",
              "      --hover-bg-color: #E2EBFA;\n",
              "      --hover-fill-color: #174EA6;\n",
              "      --disabled-fill-color: #AAA;\n",
              "      --disabled-bg-color: #DDD;\n",
              "  }\n",
              "\n",
              "  [theme=dark] .colab-df-quickchart {\n",
              "      --bg-color: #3B4455;\n",
              "      --fill-color: #D2E3FC;\n",
              "      --hover-bg-color: #434B5C;\n",
              "      --hover-fill-color: #FFFFFF;\n",
              "      --disabled-bg-color: #3B4455;\n",
              "      --disabled-fill-color: #666;\n",
              "  }\n",
              "\n",
              "  .colab-df-quickchart {\n",
              "    background-color: var(--bg-color);\n",
              "    border: none;\n",
              "    border-radius: 50%;\n",
              "    cursor: pointer;\n",
              "    display: none;\n",
              "    fill: var(--fill-color);\n",
              "    height: 32px;\n",
              "    padding: 0;\n",
              "    width: 32px;\n",
              "  }\n",
              "\n",
              "  .colab-df-quickchart:hover {\n",
              "    background-color: var(--hover-bg-color);\n",
              "    box-shadow: 0 1px 2px rgba(60, 64, 67, 0.3), 0 1px 3px 1px rgba(60, 64, 67, 0.15);\n",
              "    fill: var(--button-hover-fill-color);\n",
              "  }\n",
              "\n",
              "  .colab-df-quickchart-complete:disabled,\n",
              "  .colab-df-quickchart-complete:disabled:hover {\n",
              "    background-color: var(--disabled-bg-color);\n",
              "    fill: var(--disabled-fill-color);\n",
              "    box-shadow: none;\n",
              "  }\n",
              "\n",
              "  .colab-df-spinner {\n",
              "    border: 2px solid var(--fill-color);\n",
              "    border-color: transparent;\n",
              "    border-bottom-color: var(--fill-color);\n",
              "    animation:\n",
              "      spin 1s steps(1) infinite;\n",
              "  }\n",
              "\n",
              "  @keyframes spin {\n",
              "    0% {\n",
              "      border-color: transparent;\n",
              "      border-bottom-color: var(--fill-color);\n",
              "      border-left-color: var(--fill-color);\n",
              "    }\n",
              "    20% {\n",
              "      border-color: transparent;\n",
              "      border-left-color: var(--fill-color);\n",
              "      border-top-color: var(--fill-color);\n",
              "    }\n",
              "    30% {\n",
              "      border-color: transparent;\n",
              "      border-left-color: var(--fill-color);\n",
              "      border-top-color: var(--fill-color);\n",
              "      border-right-color: var(--fill-color);\n",
              "    }\n",
              "    40% {\n",
              "      border-color: transparent;\n",
              "      border-right-color: var(--fill-color);\n",
              "      border-top-color: var(--fill-color);\n",
              "    }\n",
              "    60% {\n",
              "      border-color: transparent;\n",
              "      border-right-color: var(--fill-color);\n",
              "    }\n",
              "    80% {\n",
              "      border-color: transparent;\n",
              "      border-right-color: var(--fill-color);\n",
              "      border-bottom-color: var(--fill-color);\n",
              "    }\n",
              "    90% {\n",
              "      border-color: transparent;\n",
              "      border-bottom-color: var(--fill-color);\n",
              "    }\n",
              "  }\n",
              "</style>\n",
              "\n",
              "  <script>\n",
              "    async function quickchart(key) {\n",
              "      const quickchartButtonEl =\n",
              "        document.querySelector('#' + key + ' button');\n",
              "      quickchartButtonEl.disabled = true;  // To prevent multiple clicks.\n",
              "      quickchartButtonEl.classList.add('colab-df-spinner');\n",
              "      try {\n",
              "        const charts = await google.colab.kernel.invokeFunction(\n",
              "            'suggestCharts', [key], {});\n",
              "      } catch (error) {\n",
              "        console.error('Error during call to suggestCharts:', error);\n",
              "      }\n",
              "      quickchartButtonEl.classList.remove('colab-df-spinner');\n",
              "      quickchartButtonEl.classList.add('colab-df-quickchart-complete');\n",
              "    }\n",
              "    (() => {\n",
              "      let quickchartButtonEl =\n",
              "        document.querySelector('#df-d77dd070-a405-478e-8711-130c88179bea button');\n",
              "      quickchartButtonEl.style.display =\n",
              "        google.colab.kernel.accessAllowed ? 'block' : 'none';\n",
              "    })();\n",
              "  </script>\n",
              "</div>\n",
              "    </div>\n",
              "  </div>\n"
            ],
            "application/vnd.google.colaboratory.intrinsic+json": {
              "type": "dataframe",
              "variable_name": "athletes_data"
            }
          },
          "metadata": {},
          "execution_count": 7
        }
      ],
      "source": [
        "PATH = '/content/drive/MyDrive/Classroom/MIS 512 Section 1 (AY 2023-2024)/Assignment_4/athlete_events.csv'\n",
        "athletes_data = pd.read_csv(PATH)\n",
        "athletes_data.head()"
      ]
    },
    {
      "cell_type": "markdown",
      "metadata": {
        "id": "BxzHpOs-jlum"
      },
      "source": [
        "**1**. How old were the oldest male and female participants of the 2012 Olympics?"
      ]
    },
    {
      "cell_type": "code",
      "execution_count": 16,
      "metadata": {
        "id": "oGrTRH_Yjlum",
        "colab": {
          "base_uri": "https://localhost:8080/"
        },
        "outputId": "d6412ba4-97b7-40cd-d1df-fb0e59602e14"
      },
      "outputs": [
        {
          "output_type": "stream",
          "name": "stdout",
          "text": [
            "********************************************************************************************************************************************************************************************************\n",
            "Oldest Atheltes Male :  71.0\n",
            "Oldest Atheltes Female :  57.0\n",
            "********************************************************************************************************************************************************************************************************\n"
          ]
        }
      ],
      "source": [
        "olympics_2012 = athletes_data[athletes_data['Year'] == 2012]\n",
        "oldest_male_2012 = olympics_2012[olympics_2012['Sex'] == 'M']['Age'].max()\n",
        "oldest_female_2012 = olympics_2012[olympics_2012['Sex'] == 'F']['Age'].max()\n",
        "\n",
        "print(\"**\"*100)\n",
        "print(\"Oldest Atheltes Male : \", oldest_male_2012)\n",
        "print(\"Oldest Atheltes Female : \", oldest_female_2012)\n",
        "print(\"**\"*100)"
      ]
    },
    {
      "cell_type": "markdown",
      "metadata": {
        "id": "oQH3wt69jlum"
      },
      "source": [
        "__2. What are the mean and standard deviation of height for male basketball players who participated in the 1992 Olympics? Round the answer to the first decimal.__"
      ]
    },
    {
      "cell_type": "code",
      "execution_count": 17,
      "metadata": {
        "id": "0zzdfpJqjlun",
        "colab": {
          "base_uri": "https://localhost:8080/"
        },
        "outputId": "57eec309-a7ae-4634-dccf-5b0cbddd574f"
      },
      "outputs": [
        {
          "output_type": "stream",
          "name": "stdout",
          "text": [
            "********************************************************************************************************************************************************************************************************\n",
            "Male Basketball Average (Height) :  199.5\n",
            "Male Basketball Standard Deviation (Height) :  9.5\n",
            "********************************************************************************************************************************************************************************************************\n"
          ]
        }
      ],
      "source": [
        "basketball_1992_men = athletes_data[(athletes_data['Year'] == 1992) &\n",
        "                                    (athletes_data['Sex'] == 'M') &\n",
        "                                    (athletes_data['Sport'] == 'Basketball')]\n",
        "\n",
        "mean_height = basketball_1992_men['Height'].mean()\n",
        "std_dev_height = basketball_1992_men['Height'].std()\n",
        "\n",
        "mean_height_rounded = round(mean_height, 1)\n",
        "std_dev_height_rounded = round(std_dev_height, 1)\n",
        "\n",
        "print(\"**\"*100)\n",
        "print(\"Male Basketball Average (Height) : \", mean_height_rounded)\n",
        "print(\"Male Basketball Standard Deviation (Height) : \", std_dev_height_rounded)\n",
        "print(\"**\"*100)"
      ]
    },
    {
      "cell_type": "markdown",
      "metadata": {
        "id": "mgKHM8kNjlun"
      },
      "source": [
        "__3. How many times did Christine Jacoba Aaftink participate in the Olympics held in different years?__"
      ]
    },
    {
      "cell_type": "code",
      "execution_count": 15,
      "metadata": {
        "id": "P0Z7w-pUjlun",
        "colab": {
          "base_uri": "https://localhost:8080/"
        },
        "outputId": "f05c0408-d841-4d28-f97a-1933b8ed083f"
      },
      "outputs": [
        {
          "output_type": "stream",
          "name": "stdout",
          "text": [
            "********************************************************************************************************************************************************************************************************\n",
            "The  Christine Jacoba Aaftink  Have participanted in the Olympics in  3  Times within these  [1988 1992 1994]  years\n",
            "********************************************************************************************************************************************************************************************************\n"
          ]
        }
      ],
      "source": [
        "player_filter = 'Christine Jacoba Aaftink'\n",
        "aaftink_data = athletes_data[athletes_data['Name'] == player_filter]\n",
        "\n",
        "unique_years = aaftink_data['Year'].unique()\n",
        "participation_count = len(unique_years)\n",
        "\n",
        "print(\"**\"*100)\n",
        "print(\"The \", player_filter, \" Have participanted in the Olympics in \", participation_count, \" Times within these \", unique_years, \" years\")\n",
        "print(\"**\"*100)"
      ]
    },
    {
      "cell_type": "markdown",
      "metadata": {
        "id": "5-VE3-Njjlun"
      },
      "source": [
        "__4. Is it true that China won fewer medals than Russia at the 2012 Olympics? Do not consider NaN values in Medal column.__"
      ]
    },
    {
      "cell_type": "code",
      "execution_count": 19,
      "metadata": {
        "id": "qZ8y2QLpjlun",
        "colab": {
          "base_uri": "https://localhost:8080/"
        },
        "outputId": "b2935480-3c7c-4be6-ea59-6f149fb41c07"
      },
      "outputs": [
        {
          "output_type": "stream",
          "name": "stdout",
          "text": [
            "********************************************************************************************************************************************************************************************************\n",
            "Yes it is true, the china has won fewer medals than Russia\n",
            "********************************************************************************************************************************************************************************************************\n"
          ]
        }
      ],
      "source": [
        "china_medals_2012 = olympics_2012[(olympics_2012['Team'] == 'China') & (olympics_2012['Medal'].notna())]\n",
        "russia_medals_2012 = olympics_2012[(olympics_2012['Team'].str.contains('Russia')) & (olympics_2012['Medal'].notna())]\n",
        "\n",
        "china_medal_count = china_medals_2012['Medal'].count()\n",
        "russia_medal_count = russia_medals_2012['Medal'].count()\n",
        "\n",
        "if china_medal_count < russia_medal_count:\n",
        "  print(\"**\"*100)\n",
        "  print(\"Yes it is true, the china has won fewer medals than Russia\")\n",
        "  print(\"**\"*100)\n",
        "else:\n",
        "  print(\"**\"*100)\n",
        "  print(\"Yes it is NOT True\")\n",
        "  print(\"**\"*100)"
      ]
    },
    {
      "cell_type": "markdown",
      "metadata": {
        "id": "lIonrmlwjlun"
      },
      "source": [
        "__5. What is the absolute difference between the number of unique sports at the 1986 Olympics and 2016 Olympics?__"
      ]
    },
    {
      "cell_type": "code",
      "execution_count": 25,
      "metadata": {
        "id": "FiZo1sI8jlun",
        "colab": {
          "base_uri": "https://localhost:8080/"
        },
        "outputId": "79ab5bba-e31c-4897-e4ca-a0973fd641f3"
      },
      "outputs": [
        {
          "output_type": "stream",
          "name": "stdout",
          "text": [
            "These are the year of Olympics helds, there is no 1986. \n",
            "\n",
            " [1896 1900 1904 1906 1908 1912 1920 1924 1928 1932 1936 1948 1952 1956\n",
            " 1960 1964 1968 1972 1976 1980 1984 1988 1992 1994 1996 1998 2000 2002\n",
            " 2004 2006 2008 2010 2012 2014 2016]\n",
            "\n",
            "\n",
            "\n",
            "********************************************************************************************************************************************************************************************************\n",
            "So these are the absolute different between number of unique sports at the 1896 and 2016 : \n",
            "\n",
            "\n",
            "############################################################\n",
            "The unique sports in 1896:  9\n",
            "The unique sports in 2016:  34\n",
            "The absolute different between number of unique sports at the 1896 and 2016:  25\n",
            "********************************************************************************************************************************************************************************************************\n"
          ]
        }
      ],
      "source": [
        "# based on the dataset, there is no 1986 Olympic, professor. So I will analyze on the 1896 instead of that.\n",
        "\n",
        "unique_olympic_years = athletes_data['Year'].unique()\n",
        "unique_olympic_years.sort()\n",
        "print( \"These are the year of Olympics helds, there is no 1986. \\n\\n\" , unique_olympic_years)\n",
        "print(\"\\n\\n\")\n",
        "\n",
        "olympics_1896_sports = athletes_data[athletes_data['Year'] == 1896]['Sport'].unique()\n",
        "olympics_2016_sports = athletes_data[athletes_data['Year'] == 2016]['Sport'].unique()\n",
        "unique_sports_1896 = len(olympics_1896_sports)\n",
        "unique_sports_2016 = len(olympics_2016_sports)\n",
        "\n",
        "absolute_difference_sports = abs(unique_sports_1896 - unique_sports_2016)\n",
        "unique_sports_1896, unique_sports_2016, absolute_difference_sports\n",
        "\n",
        "print(\"**\"*100)\n",
        "print(\"So these are the absolute different between number of unique sports at the 1896 and 2016 : \\n\\n\")\n",
        "print(\"##\"*30)\n",
        "print(\"The unique sports in 1896: \", unique_sports_1896)\n",
        "print(\"The unique sports in 2016: \", unique_sports_2016)\n",
        "print(\"The absolute different between number of unique sports at the 1896 and 2016: \", absolute_difference_sports)\n",
        "print(\"**\"*100)"
      ]
    },
    {
      "cell_type": "markdown",
      "metadata": {
        "id": "C2SHNmA_jlun"
      },
      "source": [
        "# Part 2"
      ]
    },
    {
      "cell_type": "markdown",
      "metadata": {
        "id": "r2sl3ttXjluo"
      },
      "source": [
        "**In part 2 you need to work with numpy library. Write code and perform computations in the cells below. There are five questions.**"
      ]
    },
    {
      "cell_type": "code",
      "execution_count": 26,
      "metadata": {
        "id": "6OdV74I1jluo"
      },
      "outputs": [],
      "source": [
        "import numpy as np"
      ]
    },
    {
      "cell_type": "markdown",
      "metadata": {
        "id": "pEPIR0qMjluo"
      },
      "source": [
        "__6. Create a 5x5 matrix with row values ranging from 0 to 4__"
      ]
    },
    {
      "cell_type": "code",
      "execution_count": 27,
      "metadata": {
        "id": "9XkZJ-Etjluo",
        "colab": {
          "base_uri": "https://localhost:8080/"
        },
        "outputId": "3500c79b-f660-4b63-9ead-fc1b660fc51e"
      },
      "outputs": [
        {
          "output_type": "execute_result",
          "data": {
            "text/plain": [
              "array([[0, 1, 2, 3, 4],\n",
              "       [0, 1, 2, 3, 4],\n",
              "       [0, 1, 2, 3, 4],\n",
              "       [0, 1, 2, 3, 4],\n",
              "       [0, 1, 2, 3, 4]])"
            ]
          },
          "metadata": {},
          "execution_count": 27
        }
      ],
      "source": [
        "matrix = np.tile(np.arange(0, 5), (5, 1))\n",
        "matrix"
      ]
    },
    {
      "cell_type": "markdown",
      "metadata": {
        "id": "S7w2zGKyjluo"
      },
      "source": [
        "__7. Create a random vector of size 10 and sort it__"
      ]
    },
    {
      "cell_type": "code",
      "execution_count": 28,
      "metadata": {
        "id": "8qq60kBLjluo",
        "colab": {
          "base_uri": "https://localhost:8080/"
        },
        "outputId": "1557666b-7ca0-4452-9d4e-126582a8652e"
      },
      "outputs": [
        {
          "output_type": "execute_result",
          "data": {
            "text/plain": [
              "array([0.2322058 , 0.23829238, 0.3601967 , 0.50220494, 0.54339725,\n",
              "       0.78644502, 0.82439298, 0.83278905, 0.8398064 , 0.9780468 ])"
            ]
          },
          "metadata": {},
          "execution_count": 28
        }
      ],
      "source": [
        "random_vector = np.random.random(10)\n",
        "sorted_vector = np.sort(random_vector)\n",
        "\n",
        "sorted_vector"
      ]
    },
    {
      "cell_type": "markdown",
      "metadata": {
        "id": "wkHtPAqdjluo"
      },
      "source": [
        "__8. Create a structured array with x and y coordinates covering the [0,1]x[0,1] area__"
      ]
    },
    {
      "cell_type": "code",
      "execution_count": 29,
      "metadata": {
        "id": "XyHXMstUjluo",
        "outputId": "92e000e1-ac79-4b37-b967-80bcd1de13fe",
        "colab": {
          "base_uri": "https://localhost:8080/"
        }
      },
      "outputs": [
        {
          "output_type": "stream",
          "name": "stdout",
          "text": [
            "[[(0.        , 0.        ) (0.11111111, 0.        )\n",
            "  (0.22222222, 0.        ) (0.33333333, 0.        )\n",
            "  (0.44444444, 0.        ) (0.55555556, 0.        )\n",
            "  (0.66666667, 0.        ) (0.77777778, 0.        )\n",
            "  (0.88888889, 0.        ) (1.        , 0.        )]\n",
            " [(0.        , 0.11111111) (0.11111111, 0.11111111)\n",
            "  (0.22222222, 0.11111111) (0.33333333, 0.11111111)\n",
            "  (0.44444444, 0.11111111) (0.55555556, 0.11111111)\n",
            "  (0.66666667, 0.11111111) (0.77777778, 0.11111111)\n",
            "  (0.88888889, 0.11111111) (1.        , 0.11111111)]\n",
            " [(0.        , 0.22222222) (0.11111111, 0.22222222)\n",
            "  (0.22222222, 0.22222222) (0.33333333, 0.22222222)\n",
            "  (0.44444444, 0.22222222) (0.55555556, 0.22222222)\n",
            "  (0.66666667, 0.22222222) (0.77777778, 0.22222222)\n",
            "  (0.88888889, 0.22222222) (1.        , 0.22222222)]\n",
            " [(0.        , 0.33333333) (0.11111111, 0.33333333)\n",
            "  (0.22222222, 0.33333333) (0.33333333, 0.33333333)\n",
            "  (0.44444444, 0.33333333) (0.55555556, 0.33333333)\n",
            "  (0.66666667, 0.33333333) (0.77777778, 0.33333333)\n",
            "  (0.88888889, 0.33333333) (1.        , 0.33333333)]\n",
            " [(0.        , 0.44444444) (0.11111111, 0.44444444)\n",
            "  (0.22222222, 0.44444444) (0.33333333, 0.44444444)\n",
            "  (0.44444444, 0.44444444) (0.55555556, 0.44444444)\n",
            "  (0.66666667, 0.44444444) (0.77777778, 0.44444444)\n",
            "  (0.88888889, 0.44444444) (1.        , 0.44444444)]\n",
            " [(0.        , 0.55555556) (0.11111111, 0.55555556)\n",
            "  (0.22222222, 0.55555556) (0.33333333, 0.55555556)\n",
            "  (0.44444444, 0.55555556) (0.55555556, 0.55555556)\n",
            "  (0.66666667, 0.55555556) (0.77777778, 0.55555556)\n",
            "  (0.88888889, 0.55555556) (1.        , 0.55555556)]\n",
            " [(0.        , 0.66666667) (0.11111111, 0.66666667)\n",
            "  (0.22222222, 0.66666667) (0.33333333, 0.66666667)\n",
            "  (0.44444444, 0.66666667) (0.55555556, 0.66666667)\n",
            "  (0.66666667, 0.66666667) (0.77777778, 0.66666667)\n",
            "  (0.88888889, 0.66666667) (1.        , 0.66666667)]\n",
            " [(0.        , 0.77777778) (0.11111111, 0.77777778)\n",
            "  (0.22222222, 0.77777778) (0.33333333, 0.77777778)\n",
            "  (0.44444444, 0.77777778) (0.55555556, 0.77777778)\n",
            "  (0.66666667, 0.77777778) (0.77777778, 0.77777778)\n",
            "  (0.88888889, 0.77777778) (1.        , 0.77777778)]\n",
            " [(0.        , 0.88888889) (0.11111111, 0.88888889)\n",
            "  (0.22222222, 0.88888889) (0.33333333, 0.88888889)\n",
            "  (0.44444444, 0.88888889) (0.55555556, 0.88888889)\n",
            "  (0.66666667, 0.88888889) (0.77777778, 0.88888889)\n",
            "  (0.88888889, 0.88888889) (1.        , 0.88888889)]\n",
            " [(0.        , 1.        ) (0.11111111, 1.        )\n",
            "  (0.22222222, 1.        ) (0.33333333, 1.        )\n",
            "  (0.44444444, 1.        ) (0.55555556, 1.        )\n",
            "  (0.66666667, 1.        ) (0.77777778, 1.        )\n",
            "  (0.88888889, 1.        ) (1.        , 1.        )]]\n"
          ]
        }
      ],
      "source": [
        "Z = np.zeros((10,10), [('x', float), ('y', float)])\n",
        "Z['x'], Z['y'] = np.meshgrid(np.linspace(0, 1, 10), np.linspace(0, 1, 10))\n",
        "print(Z)"
      ]
    },
    {
      "cell_type": "markdown",
      "metadata": {
        "id": "WamOx9e2jlup"
      },
      "source": [
        "__9. Consider two random array A and B, check if they are equal__"
      ]
    },
    {
      "cell_type": "code",
      "execution_count": 32,
      "metadata": {
        "id": "vIDU7lO5jlup",
        "colab": {
          "base_uri": "https://localhost:8080/"
        },
        "outputId": "f78c899b-fe4e-4db6-a5c2-bf1353d03c10"
      },
      "outputs": [
        {
          "output_type": "stream",
          "name": "stdout",
          "text": [
            "********************************************************************************************************************************************************************************************************\n",
            "No, array A and B are NOT equal\n",
            "********************************************************************************************************************************************************************************************************\n"
          ]
        }
      ],
      "source": [
        "A = np.random.rand(3, 3)\n",
        "B = np.random.rand(3, 3)\n",
        "\n",
        "arrays_equal = np.array_equal(A, B)\n",
        "if arrays_equal == True:\n",
        "  print(\"**\"*100)\n",
        "  print(\"Yes array A and B are equal\")\n",
        "  print(\"**\"*100)\n",
        "else:\n",
        "  print(\"**\"*100)\n",
        "  print(\"No, array A and B are NOT equal\")\n",
        "  print(\"**\"*100)"
      ]
    },
    {
      "cell_type": "markdown",
      "metadata": {
        "id": "bP6EDB1Pjlup"
      },
      "source": [
        "__10. Create a random matrix and swap two rows of an array?__"
      ]
    },
    {
      "cell_type": "code",
      "source": [
        "random_matrix = np.random.rand(4, 4)\n",
        "\n",
        "print(\"**\"*100)\n",
        "print(\"Original Array \\n\")\n",
        "print(random_matrix)\n",
        "print(\"**\"*100)\n",
        "\n",
        "print(\"\\n\\n Swaping .... \\n\\n\")\n",
        "random_matrix[[1, 3]] = random_matrix[[3, 1]]\n",
        "\n",
        "\n",
        "print(\"**\"*100)\n",
        "print(\"Swapping two rows of an array of 1 and 3\\n\")\n",
        "print(random_matrix)\n",
        "print(\"**\"*100)"
      ],
      "metadata": {
        "id": "21cjyvCLlVf2",
        "outputId": "93946b22-8aa0-47a3-9e57-173cce991705",
        "colab": {
          "base_uri": "https://localhost:8080/"
        }
      },
      "execution_count": 35,
      "outputs": [
        {
          "output_type": "stream",
          "name": "stdout",
          "text": [
            "********************************************************************************************************************************************************************************************************\n",
            "Original Array \n",
            "\n",
            "[[0.41466423 0.19847106 0.56417308 0.81249975]\n",
            " [0.49807706 0.57063108 0.88209964 0.36145535]\n",
            " [0.72448963 0.66475538 0.50405286 0.01599341]\n",
            " [0.48509291 0.45376911 0.33714221 0.97491198]]\n",
            "********************************************************************************************************************************************************************************************************\n",
            "\n",
            "\n",
            " Swaping .... \n",
            "\n",
            "\n",
            "********************************************************************************************************************************************************************************************************\n",
            "Swapping two rows of an array of 1 and 3\n",
            "\n",
            "[[0.41466423 0.19847106 0.56417308 0.81249975]\n",
            " [0.48509291 0.45376911 0.33714221 0.97491198]\n",
            " [0.72448963 0.66475538 0.50405286 0.01599341]\n",
            " [0.49807706 0.57063108 0.88209964 0.36145535]]\n",
            "********************************************************************************************************************************************************************************************************\n"
          ]
        }
      ]
    },
    {
      "cell_type": "code",
      "source": [],
      "metadata": {
        "id": "d62E3IcRl-5O"
      },
      "execution_count": null,
      "outputs": []
    }
  ],
  "metadata": {
    "colab": {
      "provenance": []
    },
    "kernelspec": {
      "display_name": "Python 3",
      "language": "python",
      "name": "python3"
    },
    "language_info": {
      "codemirror_mode": {
        "name": "ipython",
        "version": 3
      },
      "file_extension": ".py",
      "mimetype": "text/x-python",
      "name": "python",
      "nbconvert_exporter": "python",
      "pygments_lexer": "ipython3",
      "version": "3.6.9"
    }
  },
  "nbformat": 4,
  "nbformat_minor": 0
}